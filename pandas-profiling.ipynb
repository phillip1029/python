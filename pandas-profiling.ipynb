!pip install pandas-profiling

!pip install --upgrade numpy

!pip install --ignore-installed llvmlite

import pandas_profiling
